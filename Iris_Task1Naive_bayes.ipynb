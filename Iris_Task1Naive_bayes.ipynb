{
  "nbformat": 4,
  "nbformat_minor": 0,
  "metadata": {
    "colab": {
      "name": "Iris_Task1Naive_bayes.ipynb",
      "provenance": [],
      "collapsed_sections": [],
      "authorship_tag": "ABX9TyNw+89wXCJn74ca/mccT1aT",
      "include_colab_link": true
    },
    "kernelspec": {
      "name": "python3",
      "display_name": "Python 3"
    },
    "language_info": {
      "name": "python"
    }
  },
  "cells": [
    {
      "cell_type": "markdown",
      "metadata": {
        "id": "view-in-github",
        "colab_type": "text"
      },
      "source": [
        "<a href=\"https://colab.research.google.com/github/Tanmayshinde2001/Iris_CLassification_task1/blob/main/Iris_Task1Naive_bayes.ipynb\" target=\"_parent\"><img src=\"https://colab.research.google.com/assets/colab-badge.svg\" alt=\"Open In Colab\"/></a>"
      ]
    },
    {
      "cell_type": "code",
      "execution_count": null,
      "metadata": {
        "id": "eYwgOpx5si-D"
      },
      "outputs": [],
      "source": [
        "import pandas as pd"
      ]
    },
    {
      "cell_type": "code",
      "source": [
        "df = pd.read_csv(\"/content/Iris.csv\")"
      ],
      "metadata": {
        "id": "daJJGFE6srev"
      },
      "execution_count": null,
      "outputs": []
    },
    {
      "cell_type": "code",
      "source": [
        "df\n"
      ],
      "metadata": {
        "colab": {
          "base_uri": "https://localhost:8080/",
          "height": 424
        },
        "id": "FGde1bxJszJN",
        "outputId": "65ed0ad2-3670-46ec-a7cc-0eff1ab1ff79"
      },
      "execution_count": null,
      "outputs": [
        {
          "output_type": "execute_result",
          "data": {
            "text/plain": [
              "      Id  SepalLengthCm  SepalWidthCm  PetalLengthCm  PetalWidthCm  \\\n",
              "0      1            5.1           3.5            1.4           0.2   \n",
              "1      2            4.9           3.0            1.4           0.2   \n",
              "2      3            4.7           3.2            1.3           0.2   \n",
              "3      4            4.6           3.1            1.5           0.2   \n",
              "4      5            5.0           3.6            1.4           0.2   \n",
              "..   ...            ...           ...            ...           ...   \n",
              "145  146            6.7           3.0            5.2           2.3   \n",
              "146  147            6.3           2.5            5.0           1.9   \n",
              "147  148            6.5           3.0            5.2           2.0   \n",
              "148  149            6.2           3.4            5.4           2.3   \n",
              "149  150            5.9           3.0            5.1           1.8   \n",
              "\n",
              "            Species  \n",
              "0       Iris-setosa  \n",
              "1       Iris-setosa  \n",
              "2       Iris-setosa  \n",
              "3       Iris-setosa  \n",
              "4       Iris-setosa  \n",
              "..              ...  \n",
              "145  Iris-virginica  \n",
              "146  Iris-virginica  \n",
              "147  Iris-virginica  \n",
              "148  Iris-virginica  \n",
              "149  Iris-virginica  \n",
              "\n",
              "[150 rows x 6 columns]"
            ],
            "text/html": [
              "\n",
              "  <div id=\"df-60a9480a-7138-45c9-b98a-17022539ce57\">\n",
              "    <div class=\"colab-df-container\">\n",
              "      <div>\n",
              "<style scoped>\n",
              "    .dataframe tbody tr th:only-of-type {\n",
              "        vertical-align: middle;\n",
              "    }\n",
              "\n",
              "    .dataframe tbody tr th {\n",
              "        vertical-align: top;\n",
              "    }\n",
              "\n",
              "    .dataframe thead th {\n",
              "        text-align: right;\n",
              "    }\n",
              "</style>\n",
              "<table border=\"1\" class=\"dataframe\">\n",
              "  <thead>\n",
              "    <tr style=\"text-align: right;\">\n",
              "      <th></th>\n",
              "      <th>Id</th>\n",
              "      <th>SepalLengthCm</th>\n",
              "      <th>SepalWidthCm</th>\n",
              "      <th>PetalLengthCm</th>\n",
              "      <th>PetalWidthCm</th>\n",
              "      <th>Species</th>\n",
              "    </tr>\n",
              "  </thead>\n",
              "  <tbody>\n",
              "    <tr>\n",
              "      <th>0</th>\n",
              "      <td>1</td>\n",
              "      <td>5.1</td>\n",
              "      <td>3.5</td>\n",
              "      <td>1.4</td>\n",
              "      <td>0.2</td>\n",
              "      <td>Iris-setosa</td>\n",
              "    </tr>\n",
              "    <tr>\n",
              "      <th>1</th>\n",
              "      <td>2</td>\n",
              "      <td>4.9</td>\n",
              "      <td>3.0</td>\n",
              "      <td>1.4</td>\n",
              "      <td>0.2</td>\n",
              "      <td>Iris-setosa</td>\n",
              "    </tr>\n",
              "    <tr>\n",
              "      <th>2</th>\n",
              "      <td>3</td>\n",
              "      <td>4.7</td>\n",
              "      <td>3.2</td>\n",
              "      <td>1.3</td>\n",
              "      <td>0.2</td>\n",
              "      <td>Iris-setosa</td>\n",
              "    </tr>\n",
              "    <tr>\n",
              "      <th>3</th>\n",
              "      <td>4</td>\n",
              "      <td>4.6</td>\n",
              "      <td>3.1</td>\n",
              "      <td>1.5</td>\n",
              "      <td>0.2</td>\n",
              "      <td>Iris-setosa</td>\n",
              "    </tr>\n",
              "    <tr>\n",
              "      <th>4</th>\n",
              "      <td>5</td>\n",
              "      <td>5.0</td>\n",
              "      <td>3.6</td>\n",
              "      <td>1.4</td>\n",
              "      <td>0.2</td>\n",
              "      <td>Iris-setosa</td>\n",
              "    </tr>\n",
              "    <tr>\n",
              "      <th>...</th>\n",
              "      <td>...</td>\n",
              "      <td>...</td>\n",
              "      <td>...</td>\n",
              "      <td>...</td>\n",
              "      <td>...</td>\n",
              "      <td>...</td>\n",
              "    </tr>\n",
              "    <tr>\n",
              "      <th>145</th>\n",
              "      <td>146</td>\n",
              "      <td>6.7</td>\n",
              "      <td>3.0</td>\n",
              "      <td>5.2</td>\n",
              "      <td>2.3</td>\n",
              "      <td>Iris-virginica</td>\n",
              "    </tr>\n",
              "    <tr>\n",
              "      <th>146</th>\n",
              "      <td>147</td>\n",
              "      <td>6.3</td>\n",
              "      <td>2.5</td>\n",
              "      <td>5.0</td>\n",
              "      <td>1.9</td>\n",
              "      <td>Iris-virginica</td>\n",
              "    </tr>\n",
              "    <tr>\n",
              "      <th>147</th>\n",
              "      <td>148</td>\n",
              "      <td>6.5</td>\n",
              "      <td>3.0</td>\n",
              "      <td>5.2</td>\n",
              "      <td>2.0</td>\n",
              "      <td>Iris-virginica</td>\n",
              "    </tr>\n",
              "    <tr>\n",
              "      <th>148</th>\n",
              "      <td>149</td>\n",
              "      <td>6.2</td>\n",
              "      <td>3.4</td>\n",
              "      <td>5.4</td>\n",
              "      <td>2.3</td>\n",
              "      <td>Iris-virginica</td>\n",
              "    </tr>\n",
              "    <tr>\n",
              "      <th>149</th>\n",
              "      <td>150</td>\n",
              "      <td>5.9</td>\n",
              "      <td>3.0</td>\n",
              "      <td>5.1</td>\n",
              "      <td>1.8</td>\n",
              "      <td>Iris-virginica</td>\n",
              "    </tr>\n",
              "  </tbody>\n",
              "</table>\n",
              "<p>150 rows × 6 columns</p>\n",
              "</div>\n",
              "      <button class=\"colab-df-convert\" onclick=\"convertToInteractive('df-60a9480a-7138-45c9-b98a-17022539ce57')\"\n",
              "              title=\"Convert this dataframe to an interactive table.\"\n",
              "              style=\"display:none;\">\n",
              "        \n",
              "  <svg xmlns=\"http://www.w3.org/2000/svg\" height=\"24px\"viewBox=\"0 0 24 24\"\n",
              "       width=\"24px\">\n",
              "    <path d=\"M0 0h24v24H0V0z\" fill=\"none\"/>\n",
              "    <path d=\"M18.56 5.44l.94 2.06.94-2.06 2.06-.94-2.06-.94-.94-2.06-.94 2.06-2.06.94zm-11 1L8.5 8.5l.94-2.06 2.06-.94-2.06-.94L8.5 2.5l-.94 2.06-2.06.94zm10 10l.94 2.06.94-2.06 2.06-.94-2.06-.94-.94-2.06-.94 2.06-2.06.94z\"/><path d=\"M17.41 7.96l-1.37-1.37c-.4-.4-.92-.59-1.43-.59-.52 0-1.04.2-1.43.59L10.3 9.45l-7.72 7.72c-.78.78-.78 2.05 0 2.83L4 21.41c.39.39.9.59 1.41.59.51 0 1.02-.2 1.41-.59l7.78-7.78 2.81-2.81c.8-.78.8-2.07 0-2.86zM5.41 20L4 18.59l7.72-7.72 1.47 1.35L5.41 20z\"/>\n",
              "  </svg>\n",
              "      </button>\n",
              "      \n",
              "  <style>\n",
              "    .colab-df-container {\n",
              "      display:flex;\n",
              "      flex-wrap:wrap;\n",
              "      gap: 12px;\n",
              "    }\n",
              "\n",
              "    .colab-df-convert {\n",
              "      background-color: #E8F0FE;\n",
              "      border: none;\n",
              "      border-radius: 50%;\n",
              "      cursor: pointer;\n",
              "      display: none;\n",
              "      fill: #1967D2;\n",
              "      height: 32px;\n",
              "      padding: 0 0 0 0;\n",
              "      width: 32px;\n",
              "    }\n",
              "\n",
              "    .colab-df-convert:hover {\n",
              "      background-color: #E2EBFA;\n",
              "      box-shadow: 0px 1px 2px rgba(60, 64, 67, 0.3), 0px 1px 3px 1px rgba(60, 64, 67, 0.15);\n",
              "      fill: #174EA6;\n",
              "    }\n",
              "\n",
              "    [theme=dark] .colab-df-convert {\n",
              "      background-color: #3B4455;\n",
              "      fill: #D2E3FC;\n",
              "    }\n",
              "\n",
              "    [theme=dark] .colab-df-convert:hover {\n",
              "      background-color: #434B5C;\n",
              "      box-shadow: 0px 1px 3px 1px rgba(0, 0, 0, 0.15);\n",
              "      filter: drop-shadow(0px 1px 2px rgba(0, 0, 0, 0.3));\n",
              "      fill: #FFFFFF;\n",
              "    }\n",
              "  </style>\n",
              "\n",
              "      <script>\n",
              "        const buttonEl =\n",
              "          document.querySelector('#df-60a9480a-7138-45c9-b98a-17022539ce57 button.colab-df-convert');\n",
              "        buttonEl.style.display =\n",
              "          google.colab.kernel.accessAllowed ? 'block' : 'none';\n",
              "\n",
              "        async function convertToInteractive(key) {\n",
              "          const element = document.querySelector('#df-60a9480a-7138-45c9-b98a-17022539ce57');\n",
              "          const dataTable =\n",
              "            await google.colab.kernel.invokeFunction('convertToInteractive',\n",
              "                                                     [key], {});\n",
              "          if (!dataTable) return;\n",
              "\n",
              "          const docLinkHtml = 'Like what you see? Visit the ' +\n",
              "            '<a target=\"_blank\" href=https://colab.research.google.com/notebooks/data_table.ipynb>data table notebook</a>'\n",
              "            + ' to learn more about interactive tables.';\n",
              "          element.innerHTML = '';\n",
              "          dataTable['output_type'] = 'display_data';\n",
              "          await google.colab.output.renderOutput(dataTable, element);\n",
              "          const docLink = document.createElement('div');\n",
              "          docLink.innerHTML = docLinkHtml;\n",
              "          element.appendChild(docLink);\n",
              "        }\n",
              "      </script>\n",
              "    </div>\n",
              "  </div>\n",
              "  "
            ]
          },
          "metadata": {},
          "execution_count": 95
        }
      ]
    },
    {
      "cell_type": "code",
      "source": [
        ""
      ],
      "metadata": {
        "id": "J7DI-J3_wzs4"
      },
      "execution_count": null,
      "outputs": []
    },
    {
      "cell_type": "code",
      "source": [
        "df.dtypes"
      ],
      "metadata": {
        "colab": {
          "base_uri": "https://localhost:8080/"
        },
        "id": "SCyhyd28szMk",
        "outputId": "d371f5ba-8d12-41b0-a551-ec6eb2fbe2a0"
      },
      "execution_count": null,
      "outputs": [
        {
          "output_type": "execute_result",
          "data": {
            "text/plain": [
              "Id                 int64\n",
              "SepalLengthCm    float64\n",
              "SepalWidthCm     float64\n",
              "PetalLengthCm    float64\n",
              "PetalWidthCm     float64\n",
              "Species           object\n",
              "dtype: object"
            ]
          },
          "metadata": {},
          "execution_count": 96
        }
      ]
    },
    {
      "cell_type": "code",
      "source": [
        "df.isnull().sum()"
      ],
      "metadata": {
        "colab": {
          "base_uri": "https://localhost:8080/"
        },
        "id": "2aQ5mnvsszPV",
        "outputId": "b021316d-64f9-4daf-dd40-fa73c101a636"
      },
      "execution_count": null,
      "outputs": [
        {
          "output_type": "execute_result",
          "data": {
            "text/plain": [
              "Id               0\n",
              "SepalLengthCm    0\n",
              "SepalWidthCm     0\n",
              "PetalLengthCm    0\n",
              "PetalWidthCm     0\n",
              "Species          0\n",
              "dtype: int64"
            ]
          },
          "metadata": {},
          "execution_count": 97
        }
      ]
    },
    {
      "cell_type": "code",
      "source": [
        "df.shape"
      ],
      "metadata": {
        "colab": {
          "base_uri": "https://localhost:8080/"
        },
        "id": "-SN-9y2MszRt",
        "outputId": "3d26e594-2416-42b1-a1e8-baf8563fa0e9"
      },
      "execution_count": null,
      "outputs": [
        {
          "output_type": "execute_result",
          "data": {
            "text/plain": [
              "(150, 6)"
            ]
          },
          "metadata": {},
          "execution_count": 98
        }
      ]
    },
    {
      "cell_type": "code",
      "source": [
        "X = df.iloc[:,:5]"
      ],
      "metadata": {
        "id": "1RJPUw6Ew2fm"
      },
      "execution_count": null,
      "outputs": []
    },
    {
      "cell_type": "code",
      "source": [
        "y = df['Species']"
      ],
      "metadata": {
        "id": "ETqfvH83w_cN"
      },
      "execution_count": null,
      "outputs": []
    },
    {
      "cell_type": "code",
      "source": [
        "X.drop('Id',inplace = True,axis = 1)\n"
      ],
      "metadata": {
        "id": "5qsJkatjxP-G"
      },
      "execution_count": null,
      "outputs": []
    },
    {
      "cell_type": "code",
      "source": [
        "y"
      ],
      "metadata": {
        "colab": {
          "base_uri": "https://localhost:8080/"
        },
        "id": "TX1d4kXNxa3V",
        "outputId": "b066e20e-3e83-47ab-f997-ef6d800281d9"
      },
      "execution_count": null,
      "outputs": [
        {
          "output_type": "execute_result",
          "data": {
            "text/plain": [
              "0         Iris-setosa\n",
              "1         Iris-setosa\n",
              "2         Iris-setosa\n",
              "3         Iris-setosa\n",
              "4         Iris-setosa\n",
              "            ...      \n",
              "145    Iris-virginica\n",
              "146    Iris-virginica\n",
              "147    Iris-virginica\n",
              "148    Iris-virginica\n",
              "149    Iris-virginica\n",
              "Name: Species, Length: 150, dtype: object"
            ]
          },
          "metadata": {},
          "execution_count": 102
        }
      ]
    },
    {
      "cell_type": "code",
      "source": [
        "X"
      ],
      "metadata": {
        "colab": {
          "base_uri": "https://localhost:8080/",
          "height": 424
        },
        "id": "RtZF2W_zxlKD",
        "outputId": "6a8304a7-da08-4731-ec1d-4fe272f9da44"
      },
      "execution_count": null,
      "outputs": [
        {
          "output_type": "execute_result",
          "data": {
            "text/plain": [
              "     SepalLengthCm  SepalWidthCm  PetalLengthCm  PetalWidthCm\n",
              "0              5.1           3.5            1.4           0.2\n",
              "1              4.9           3.0            1.4           0.2\n",
              "2              4.7           3.2            1.3           0.2\n",
              "3              4.6           3.1            1.5           0.2\n",
              "4              5.0           3.6            1.4           0.2\n",
              "..             ...           ...            ...           ...\n",
              "145            6.7           3.0            5.2           2.3\n",
              "146            6.3           2.5            5.0           1.9\n",
              "147            6.5           3.0            5.2           2.0\n",
              "148            6.2           3.4            5.4           2.3\n",
              "149            5.9           3.0            5.1           1.8\n",
              "\n",
              "[150 rows x 4 columns]"
            ],
            "text/html": [
              "\n",
              "  <div id=\"df-294e5e26-9e12-4654-92a0-777fd684e7b2\">\n",
              "    <div class=\"colab-df-container\">\n",
              "      <div>\n",
              "<style scoped>\n",
              "    .dataframe tbody tr th:only-of-type {\n",
              "        vertical-align: middle;\n",
              "    }\n",
              "\n",
              "    .dataframe tbody tr th {\n",
              "        vertical-align: top;\n",
              "    }\n",
              "\n",
              "    .dataframe thead th {\n",
              "        text-align: right;\n",
              "    }\n",
              "</style>\n",
              "<table border=\"1\" class=\"dataframe\">\n",
              "  <thead>\n",
              "    <tr style=\"text-align: right;\">\n",
              "      <th></th>\n",
              "      <th>SepalLengthCm</th>\n",
              "      <th>SepalWidthCm</th>\n",
              "      <th>PetalLengthCm</th>\n",
              "      <th>PetalWidthCm</th>\n",
              "    </tr>\n",
              "  </thead>\n",
              "  <tbody>\n",
              "    <tr>\n",
              "      <th>0</th>\n",
              "      <td>5.1</td>\n",
              "      <td>3.5</td>\n",
              "      <td>1.4</td>\n",
              "      <td>0.2</td>\n",
              "    </tr>\n",
              "    <tr>\n",
              "      <th>1</th>\n",
              "      <td>4.9</td>\n",
              "      <td>3.0</td>\n",
              "      <td>1.4</td>\n",
              "      <td>0.2</td>\n",
              "    </tr>\n",
              "    <tr>\n",
              "      <th>2</th>\n",
              "      <td>4.7</td>\n",
              "      <td>3.2</td>\n",
              "      <td>1.3</td>\n",
              "      <td>0.2</td>\n",
              "    </tr>\n",
              "    <tr>\n",
              "      <th>3</th>\n",
              "      <td>4.6</td>\n",
              "      <td>3.1</td>\n",
              "      <td>1.5</td>\n",
              "      <td>0.2</td>\n",
              "    </tr>\n",
              "    <tr>\n",
              "      <th>4</th>\n",
              "      <td>5.0</td>\n",
              "      <td>3.6</td>\n",
              "      <td>1.4</td>\n",
              "      <td>0.2</td>\n",
              "    </tr>\n",
              "    <tr>\n",
              "      <th>...</th>\n",
              "      <td>...</td>\n",
              "      <td>...</td>\n",
              "      <td>...</td>\n",
              "      <td>...</td>\n",
              "    </tr>\n",
              "    <tr>\n",
              "      <th>145</th>\n",
              "      <td>6.7</td>\n",
              "      <td>3.0</td>\n",
              "      <td>5.2</td>\n",
              "      <td>2.3</td>\n",
              "    </tr>\n",
              "    <tr>\n",
              "      <th>146</th>\n",
              "      <td>6.3</td>\n",
              "      <td>2.5</td>\n",
              "      <td>5.0</td>\n",
              "      <td>1.9</td>\n",
              "    </tr>\n",
              "    <tr>\n",
              "      <th>147</th>\n",
              "      <td>6.5</td>\n",
              "      <td>3.0</td>\n",
              "      <td>5.2</td>\n",
              "      <td>2.0</td>\n",
              "    </tr>\n",
              "    <tr>\n",
              "      <th>148</th>\n",
              "      <td>6.2</td>\n",
              "      <td>3.4</td>\n",
              "      <td>5.4</td>\n",
              "      <td>2.3</td>\n",
              "    </tr>\n",
              "    <tr>\n",
              "      <th>149</th>\n",
              "      <td>5.9</td>\n",
              "      <td>3.0</td>\n",
              "      <td>5.1</td>\n",
              "      <td>1.8</td>\n",
              "    </tr>\n",
              "  </tbody>\n",
              "</table>\n",
              "<p>150 rows × 4 columns</p>\n",
              "</div>\n",
              "      <button class=\"colab-df-convert\" onclick=\"convertToInteractive('df-294e5e26-9e12-4654-92a0-777fd684e7b2')\"\n",
              "              title=\"Convert this dataframe to an interactive table.\"\n",
              "              style=\"display:none;\">\n",
              "        \n",
              "  <svg xmlns=\"http://www.w3.org/2000/svg\" height=\"24px\"viewBox=\"0 0 24 24\"\n",
              "       width=\"24px\">\n",
              "    <path d=\"M0 0h24v24H0V0z\" fill=\"none\"/>\n",
              "    <path d=\"M18.56 5.44l.94 2.06.94-2.06 2.06-.94-2.06-.94-.94-2.06-.94 2.06-2.06.94zm-11 1L8.5 8.5l.94-2.06 2.06-.94-2.06-.94L8.5 2.5l-.94 2.06-2.06.94zm10 10l.94 2.06.94-2.06 2.06-.94-2.06-.94-.94-2.06-.94 2.06-2.06.94z\"/><path d=\"M17.41 7.96l-1.37-1.37c-.4-.4-.92-.59-1.43-.59-.52 0-1.04.2-1.43.59L10.3 9.45l-7.72 7.72c-.78.78-.78 2.05 0 2.83L4 21.41c.39.39.9.59 1.41.59.51 0 1.02-.2 1.41-.59l7.78-7.78 2.81-2.81c.8-.78.8-2.07 0-2.86zM5.41 20L4 18.59l7.72-7.72 1.47 1.35L5.41 20z\"/>\n",
              "  </svg>\n",
              "      </button>\n",
              "      \n",
              "  <style>\n",
              "    .colab-df-container {\n",
              "      display:flex;\n",
              "      flex-wrap:wrap;\n",
              "      gap: 12px;\n",
              "    }\n",
              "\n",
              "    .colab-df-convert {\n",
              "      background-color: #E8F0FE;\n",
              "      border: none;\n",
              "      border-radius: 50%;\n",
              "      cursor: pointer;\n",
              "      display: none;\n",
              "      fill: #1967D2;\n",
              "      height: 32px;\n",
              "      padding: 0 0 0 0;\n",
              "      width: 32px;\n",
              "    }\n",
              "\n",
              "    .colab-df-convert:hover {\n",
              "      background-color: #E2EBFA;\n",
              "      box-shadow: 0px 1px 2px rgba(60, 64, 67, 0.3), 0px 1px 3px 1px rgba(60, 64, 67, 0.15);\n",
              "      fill: #174EA6;\n",
              "    }\n",
              "\n",
              "    [theme=dark] .colab-df-convert {\n",
              "      background-color: #3B4455;\n",
              "      fill: #D2E3FC;\n",
              "    }\n",
              "\n",
              "    [theme=dark] .colab-df-convert:hover {\n",
              "      background-color: #434B5C;\n",
              "      box-shadow: 0px 1px 3px 1px rgba(0, 0, 0, 0.15);\n",
              "      filter: drop-shadow(0px 1px 2px rgba(0, 0, 0, 0.3));\n",
              "      fill: #FFFFFF;\n",
              "    }\n",
              "  </style>\n",
              "\n",
              "      <script>\n",
              "        const buttonEl =\n",
              "          document.querySelector('#df-294e5e26-9e12-4654-92a0-777fd684e7b2 button.colab-df-convert');\n",
              "        buttonEl.style.display =\n",
              "          google.colab.kernel.accessAllowed ? 'block' : 'none';\n",
              "\n",
              "        async function convertToInteractive(key) {\n",
              "          const element = document.querySelector('#df-294e5e26-9e12-4654-92a0-777fd684e7b2');\n",
              "          const dataTable =\n",
              "            await google.colab.kernel.invokeFunction('convertToInteractive',\n",
              "                                                     [key], {});\n",
              "          if (!dataTable) return;\n",
              "\n",
              "          const docLinkHtml = 'Like what you see? Visit the ' +\n",
              "            '<a target=\"_blank\" href=https://colab.research.google.com/notebooks/data_table.ipynb>data table notebook</a>'\n",
              "            + ' to learn more about interactive tables.';\n",
              "          element.innerHTML = '';\n",
              "          dataTable['output_type'] = 'display_data';\n",
              "          await google.colab.output.renderOutput(dataTable, element);\n",
              "          const docLink = document.createElement('div');\n",
              "          docLink.innerHTML = docLinkHtml;\n",
              "          element.appendChild(docLink);\n",
              "        }\n",
              "      </script>\n",
              "    </div>\n",
              "  </div>\n",
              "  "
            ]
          },
          "metadata": {},
          "execution_count": 103
        }
      ]
    },
    {
      "cell_type": "code",
      "source": [
        "from sklearn.model_selection import train_test_split"
      ],
      "metadata": {
        "id": "0Mhx_HW4ylyB"
      },
      "execution_count": null,
      "outputs": []
    },
    {
      "cell_type": "code",
      "source": [
        "X_train,X_test,y_train,y_test = train_test_split(X,y,test_size= 0.25,random_state = 0)"
      ],
      "metadata": {
        "id": "YCPvCsc8zJHH"
      },
      "execution_count": null,
      "outputs": []
    },
    {
      "cell_type": "code",
      "source": [
        "X_train,X_test"
      ],
      "metadata": {
        "colab": {
          "base_uri": "https://localhost:8080/"
        },
        "id": "As3SFYe7zfbM",
        "outputId": "89ec3277-d70d-482c-f25f-2ee57f91faa3"
      },
      "execution_count": null,
      "outputs": [
        {
          "output_type": "execute_result",
          "data": {
            "text/plain": [
              "(     SepalLengthCm  SepalWidthCm  PetalLengthCm  PetalWidthCm\n",
              " 61             5.9           3.0            4.2           1.5\n",
              " 92             5.8           2.6            4.0           1.2\n",
              " 112            6.8           3.0            5.5           2.1\n",
              " 2              4.7           3.2            1.3           0.2\n",
              " 141            6.9           3.1            5.1           2.3\n",
              " ..             ...           ...            ...           ...\n",
              " 9              4.9           3.1            1.5           0.1\n",
              " 103            6.3           2.9            5.6           1.8\n",
              " 67             5.8           2.7            4.1           1.0\n",
              " 117            7.7           3.8            6.7           2.2\n",
              " 47             4.6           3.2            1.4           0.2\n",
              " \n",
              " [112 rows x 4 columns],\n",
              "      SepalLengthCm  SepalWidthCm  PetalLengthCm  PetalWidthCm\n",
              " 114            5.8           2.8            5.1           2.4\n",
              " 62             6.0           2.2            4.0           1.0\n",
              " 33             5.5           4.2            1.4           0.2\n",
              " 107            7.3           2.9            6.3           1.8\n",
              " 7              5.0           3.4            1.5           0.2\n",
              " 100            6.3           3.3            6.0           2.5\n",
              " 40             5.0           3.5            1.3           0.3\n",
              " 86             6.7           3.1            4.7           1.5\n",
              " 76             6.8           2.8            4.8           1.4\n",
              " 71             6.1           2.8            4.0           1.3\n",
              " 134            6.1           2.6            5.6           1.4\n",
              " 51             6.4           3.2            4.5           1.5\n",
              " 73             6.1           2.8            4.7           1.2\n",
              " 54             6.5           2.8            4.6           1.5\n",
              " 63             6.1           2.9            4.7           1.4\n",
              " 37             4.9           3.1            1.5           0.1\n",
              " 78             6.0           2.9            4.5           1.5\n",
              " 90             5.5           2.6            4.4           1.2\n",
              " 45             4.8           3.0            1.4           0.3\n",
              " 16             5.4           3.9            1.3           0.4\n",
              " 121            5.6           2.8            4.9           2.0\n",
              " 66             5.6           3.0            4.5           1.5\n",
              " 24             4.8           3.4            1.9           0.2\n",
              " 8              4.4           2.9            1.4           0.2\n",
              " 126            6.2           2.8            4.8           1.8\n",
              " 22             4.6           3.6            1.0           0.2\n",
              " 44             5.1           3.8            1.9           0.4\n",
              " 97             6.2           2.9            4.3           1.3\n",
              " 93             5.0           2.3            3.3           1.0\n",
              " 26             5.0           3.4            1.6           0.4\n",
              " 137            6.4           3.1            5.5           1.8\n",
              " 84             5.4           3.0            4.5           1.5\n",
              " 27             5.2           3.5            1.5           0.2\n",
              " 127            6.1           3.0            4.9           1.8\n",
              " 132            6.4           2.8            5.6           2.2\n",
              " 59             5.2           2.7            3.9           1.4\n",
              " 18             5.7           3.8            1.7           0.3\n",
              " 83             6.0           2.7            5.1           1.6)"
            ]
          },
          "metadata": {},
          "execution_count": 106
        }
      ]
    },
    {
      "cell_type": "code",
      "source": [
        "from sklearn.preprocessing import StandardScaler\n",
        "sc = StandardScaler()\n",
        "X_train = sc.fit_transform(X_train)\n",
        "X_test = sc.fit_transform(X_test)\n"
      ],
      "metadata": {
        "id": "xBh00dihziSU"
      },
      "execution_count": null,
      "outputs": []
    },
    {
      "cell_type": "code",
      "source": [
        "X_train,X_test"
      ],
      "metadata": {
        "colab": {
          "base_uri": "https://localhost:8080/"
        },
        "id": "lSruNeVg0WHL",
        "outputId": "66c617a2-d46d-49bc-a7cc-bc53a6b3c61f"
      },
      "execution_count": null,
      "outputs": [
        {
          "output_type": "execute_result",
          "data": {
            "text/plain": [
              "(array([[ 1.54399532e-02, -1.19254753e-01,  2.25126850e-01,\n",
              "          3.56381749e-01],\n",
              "        [-9.98450310e-02, -1.04039491e+00,  1.13559562e-01,\n",
              "         -2.86480506e-02],\n",
              "        [ 1.05300481e+00, -1.19254753e-01,  9.50314227e-01,\n",
              "          1.12644135e+00],\n",
              "        [-1.36797986e+00,  3.41315328e-01, -1.39259884e+00,\n",
              "         -1.31208072e+00],\n",
              "        [ 1.16828980e+00,  1.11030287e-01,  7.27179649e-01,\n",
              "          1.38312788e+00],\n",
              "        [-1.02212490e+00,  1.03217045e+00, -1.22524790e+00,\n",
              "         -7.98707650e-01],\n",
              "        [-5.60984968e-01,  1.49274053e+00, -1.28103155e+00,\n",
              "         -1.31208072e+00],\n",
              "        [-1.02212490e+00, -2.42210516e+00, -1.65358660e-01,\n",
              "         -2.85334584e-01],\n",
              "        [ 7.07149859e-01, -1.19254753e-01,  9.50314227e-01,\n",
              "          7.41411549e-01],\n",
              "        [ 9.37719827e-01,  5.71600368e-01,  1.06188152e+00,\n",
              "          1.63981441e+00],\n",
              "        [ 1.30724937e-01, -1.96153508e+00,  6.71396005e-01,\n",
              "          3.56381749e-01],\n",
              "        [ 9.37719827e-01, -1.27067995e+00,  1.11766516e+00,\n",
              "          7.41411549e-01],\n",
              "        [-3.30414999e-01, -1.27067995e+00,  5.77759173e-02,\n",
              "         -1.56991317e-01],\n",
              "        [ 2.09056967e+00, -1.19254753e-01,  1.28501609e+00,\n",
              "          1.38312788e+00],\n",
              "        [ 4.76579890e-01,  5.71600368e-01,  5.04045072e-01,\n",
              "          4.84725016e-01],\n",
              "        [-4.45699984e-01, -1.50096499e+00,  1.99227301e-03,\n",
              "         -1.56991317e-01],\n",
              "        [ 4.76579890e-01, -8.10109874e-01,  6.15612361e-01,\n",
              "          7.41411549e-01],\n",
              "        [ 4.76579890e-01, -5.79824834e-01,  7.27179649e-01,\n",
              "          3.56381749e-01],\n",
              "        [-1.13740989e+00, -1.27067995e+00,  3.92477783e-01,\n",
              "          6.13068282e-01],\n",
              "        [ 4.76579890e-01, -1.27067995e+00,  6.71396005e-01,\n",
              "          8.69754815e-01],\n",
              "        [ 1.28357478e+00,  3.41315328e-01,  5.04045072e-01,\n",
              "          2.28038483e-01],\n",
              "        [ 7.07149859e-01, -1.19254753e-01,  7.82963294e-01,\n",
              "          9.98098082e-01],\n",
              "        [ 1.30724937e-01,  8.01885408e-01,  3.92477783e-01,\n",
              "          4.84725016e-01],\n",
              "        [-1.25269487e+00,  1.11030287e-01, -1.22524790e+00,\n",
              "         -1.31208072e+00],\n",
              "        [-9.98450310e-02, -8.10109874e-01,  7.27179649e-01,\n",
              "          8.69754815e-01],\n",
              "        [-3.30414999e-01, -8.10109874e-01,  2.25126850e-01,\n",
              "          9.96952160e-02],\n",
              "        [-3.30414999e-01, -3.49539793e-01, -1.09575016e-01,\n",
              "          9.96952160e-02],\n",
              "        [-4.45699984e-01, -1.27067995e+00,  1.13559562e-01,\n",
              "          9.96952160e-02],\n",
              "        [ 2.46009922e-01, -1.19254753e-01,  4.48261428e-01,\n",
              "          2.28038483e-01],\n",
              "        [ 1.51414475e+00,  3.41315328e-01,  1.22923245e+00,\n",
              "          7.41411549e-01],\n",
              "        [-6.76269952e-01,  1.49274053e+00, -1.28103155e+00,\n",
              "         -1.31208072e+00],\n",
              "        [-1.82911979e+00, -1.19254753e-01, -1.50416612e+00,\n",
              "         -1.44042398e+00],\n",
              "        [ 5.91864874e-01, -8.10109874e-01,  8.38746938e-01,\n",
              "          8.69754815e-01],\n",
              "        [-2.15130015e-01, -1.19254753e-01,  2.25126850e-01,\n",
              "         -2.86480506e-02],\n",
              "        [-5.60984968e-01,  8.01885408e-01, -1.16946426e+00,\n",
              "         -1.31208072e+00],\n",
              "        [-2.15130015e-01,  3.10473581e+00, -1.28103155e+00,\n",
              "         -1.05539418e+00],\n",
              "        [ 1.16828980e+00,  1.11030287e-01,  6.15612361e-01,\n",
              "          3.56381749e-01],\n",
              "        [-1.48326484e+00,  1.11030287e-01, -1.28103155e+00,\n",
              "         -1.31208072e+00],\n",
              "        [ 1.54399532e-02, -1.19254753e-01,  7.27179649e-01,\n",
              "          7.41411549e-01],\n",
              "        [-9.06839920e-01, -1.27067995e+00, -4.44276882e-01,\n",
              "         -1.56991317e-01],\n",
              "        [-1.48326484e+00,  8.01885408e-01, -1.33681519e+00,\n",
              "         -1.18373745e+00],\n",
              "        [ 3.61294906e-01, -1.96153508e+00,  3.92477783e-01,\n",
              "          3.56381749e-01],\n",
              "        [ 1.51414475e+00,  1.26245549e+00,  1.28501609e+00,\n",
              "          1.63981441e+00],\n",
              "        [-2.15130015e-01, -3.49539793e-01,  2.25126850e-01,\n",
              "          9.96952160e-02],\n",
              "        [-1.25269487e+00, -1.19254753e-01, -1.33681519e+00,\n",
              "         -1.44042398e+00],\n",
              "        [ 1.39885976e+00, -1.19254753e-01,  1.17344880e+00,\n",
              "          1.12644135e+00],\n",
              "        [ 1.16828980e+00,  3.41315328e-01,  1.06188152e+00,\n",
              "          1.38312788e+00],\n",
              "        [ 7.07149859e-01, -1.19254753e-01,  1.11766516e+00,\n",
              "          1.25478461e+00],\n",
              "        [ 5.91864874e-01, -5.79824834e-01,  1.00609787e+00,\n",
              "          1.12644135e+00],\n",
              "        [-9.06839920e-01,  1.72302557e+00, -1.22524790e+00,\n",
              "         -1.31208072e+00],\n",
              "        [-1.25269487e+00,  8.01885408e-01, -1.22524790e+00,\n",
              "         -1.31208072e+00],\n",
              "        [ 7.07149859e-01,  3.41315328e-01,  7.27179649e-01,\n",
              "          9.98098082e-01],\n",
              "        [ 9.37719827e-01,  5.71600368e-01,  1.06188152e+00,\n",
              "          1.12644135e+00],\n",
              "        [-1.59854983e+00, -1.73125004e+00, -1.39259884e+00,\n",
              "         -1.18373745e+00],\n",
              "        [ 3.61294906e-01,  8.01885408e-01,  8.94530582e-01,\n",
              "          1.38312788e+00],\n",
              "        [-1.13740989e+00, -1.19254753e-01, -1.33681519e+00,\n",
              "         -1.31208072e+00],\n",
              "        [-2.15130015e-01, -1.27067995e+00,  6.71396005e-01,\n",
              "          9.98098082e-01],\n",
              "        [ 1.16828980e+00,  1.11030287e-01,  8.94530582e-01,\n",
              "          1.12644135e+00],\n",
              "        [-1.71383481e+00,  3.41315328e-01, -1.39259884e+00,\n",
              "         -1.31208072e+00],\n",
              "        [-1.02212490e+00,  1.26245549e+00, -1.33681519e+00,\n",
              "         -1.31208072e+00],\n",
              "        [ 1.51414475e+00, -1.19254753e-01,  1.11766516e+00,\n",
              "          4.84725016e-01],\n",
              "        [-9.06839920e-01,  1.03217045e+00, -1.33681519e+00,\n",
              "         -1.18373745e+00],\n",
              "        [-1.71383481e+00, -1.19254753e-01, -1.39259884e+00,\n",
              "         -1.31208072e+00],\n",
              "        [-5.60984968e-01,  1.95331061e+00, -1.16946426e+00,\n",
              "         -1.05539418e+00],\n",
              "        [-4.45699984e-01, -1.73125004e+00,  1.13559562e-01,\n",
              "          9.96952160e-02],\n",
              "        [ 1.05300481e+00,  3.41315328e-01,  1.17344880e+00,\n",
              "          1.38312788e+00],\n",
              "        [ 1.97528468e+00, -1.19254753e-01,  1.56393431e+00,\n",
              "          1.12644135e+00],\n",
              "        [-9.06839920e-01,  1.03217045e+00, -1.33681519e+00,\n",
              "         -1.31208072e+00],\n",
              "        [-1.13740989e+00,  1.11030287e-01, -1.28103155e+00,\n",
              "         -1.44042398e+00],\n",
              "        [-7.91554936e-01,  8.01885408e-01, -1.33681519e+00,\n",
              "         -1.31208072e+00],\n",
              "        [-2.15130015e-01, -5.79824834e-01,  3.92477783e-01,\n",
              "          9.96952160e-02],\n",
              "        [ 8.22434843e-01, -1.19254753e-01,  3.36694139e-01,\n",
              "          2.28038483e-01],\n",
              "        [-1.02212490e+00,  3.41315328e-01, -1.44838248e+00,\n",
              "         -1.31208072e+00],\n",
              "        [-9.06839920e-01,  5.71600368e-01, -1.16946426e+00,\n",
              "         -9.27050916e-01],\n",
              "        [ 5.91864874e-01, -3.49539793e-01,  2.80910495e-01,\n",
              "          9.96952160e-02],\n",
              "        [-5.60984968e-01,  8.01885408e-01, -1.28103155e+00,\n",
              "         -1.05539418e+00],\n",
              "        [ 2.09056967e+00, -1.04039491e+00,  1.73128525e+00,\n",
              "          1.38312788e+00],\n",
              "        [-1.13740989e+00, -1.50096499e+00, -2.76925949e-01,\n",
              "         -2.85334584e-01],\n",
              "        [ 2.32113964e+00,  1.72302557e+00,  1.45236703e+00,\n",
              "          9.98098082e-01],\n",
              "        [ 9.37719827e-01,  1.11030287e-01,  3.36694139e-01,\n",
              "          2.28038483e-01],\n",
              "        [-7.91554936e-01,  2.41388069e+00, -1.28103155e+00,\n",
              "         -1.44042398e+00],\n",
              "        [ 1.30724937e-01, -1.19254753e-01,  5.59828716e-01,\n",
              "          7.41411549e-01],\n",
              "        [-9.98450310e-02,  2.18359565e+00, -1.44838248e+00,\n",
              "         -1.31208072e+00],\n",
              "        [ 2.09056967e+00, -5.79824834e-01,  1.61971796e+00,\n",
              "          9.98098082e-01],\n",
              "        [-9.06839920e-01,  1.72302557e+00, -1.28103155e+00,\n",
              "         -1.18373745e+00],\n",
              "        [-1.36797986e+00,  3.41315328e-01, -1.22524790e+00,\n",
              "         -1.31208072e+00],\n",
              "        [ 1.74471472e+00, -5.79824834e-01,  1.28501609e+00,\n",
              "          8.69754815e-01],\n",
              "        [-1.02212490e+00,  5.71600368e-01, -1.33681519e+00,\n",
              "         -1.31208072e+00],\n",
              "        [ 4.76579890e-01,  8.01885408e-01,  1.00609787e+00,\n",
              "          1.51147115e+00],\n",
              "        [-2.15130015e-01, -5.79824834e-01,  1.69343206e-01,\n",
              "          9.96952160e-02],\n",
              "        [-9.98450310e-02, -8.10109874e-01,  5.77759173e-02,\n",
              "         -2.86480506e-02],\n",
              "        [-2.15130015e-01, -1.04039491e+00, -1.65358660e-01,\n",
              "         -2.85334584e-01],\n",
              "        [ 5.91864874e-01,  3.41315328e-01,  8.38746938e-01,\n",
              "          1.38312788e+00],\n",
              "        [ 9.37719827e-01, -1.19254753e-01,  7.82963294e-01,\n",
              "          1.38312788e+00],\n",
              "        [ 4.76579890e-01, -1.27067995e+00,  6.15612361e-01,\n",
              "          3.56381749e-01],\n",
              "        [ 9.37719827e-01, -1.19254753e-01,  6.71396005e-01,\n",
              "          6.13068282e-01],\n",
              "        [-1.02212490e+00, -1.19254753e-01, -1.22524790e+00,\n",
              "         -1.31208072e+00],\n",
              "        [-4.45699984e-01, -1.50096499e+00, -5.37913713e-02,\n",
              "         -2.85334584e-01],\n",
              "        [ 9.37719827e-01,  1.11030287e-01,  1.00609787e+00,\n",
              "          1.51147115e+00],\n",
              "        [-9.98450310e-02, -8.10109874e-01,  7.27179649e-01,\n",
              "          8.69754815e-01],\n",
              "        [-9.06839920e-01,  8.01885408e-01, -1.28103155e+00,\n",
              "         -1.31208072e+00],\n",
              "        [ 8.22434843e-01, -3.49539793e-01,  4.48261428e-01,\n",
              "          9.96952160e-02],\n",
              "        [-3.30414999e-01, -1.19254753e-01,  1.69343206e-01,\n",
              "          9.96952160e-02],\n",
              "        [ 1.54399532e-02,  3.41315328e-01,  5.59828716e-01,\n",
              "          7.41411549e-01],\n",
              "        [ 4.76579890e-01, -1.73125004e+00,  3.36694139e-01,\n",
              "          9.96952160e-02],\n",
              "        [-4.45699984e-01,  1.03217045e+00, -1.39259884e+00,\n",
              "         -1.31208072e+00],\n",
              "        [-9.06839920e-01,  1.49274053e+00, -1.28103155e+00,\n",
              "         -1.05539418e+00],\n",
              "        [-1.13740989e+00,  1.11030287e-01, -1.28103155e+00,\n",
              "         -1.44042398e+00],\n",
              "        [ 4.76579890e-01, -3.49539793e-01,  1.00609787e+00,\n",
              "          7.41411549e-01],\n",
              "        [-9.98450310e-02, -8.10109874e-01,  1.69343206e-01,\n",
              "         -2.85334584e-01],\n",
              "        [ 2.09056967e+00,  1.72302557e+00,  1.61971796e+00,\n",
              "          1.25478461e+00],\n",
              "        [-1.48326484e+00,  3.41315328e-01, -1.33681519e+00,\n",
              "         -1.31208072e+00]]),\n",
              " array([[ 0.12564197, -0.6117992 ,  0.88098019,  1.81979323],\n",
              "        [ 0.42404164, -2.0207913 ,  0.21386113, -0.1846167 ],\n",
              "        [-0.32195754,  2.67584903, -1.36296573, -1.32999381],\n",
              "        [ 2.36363949, -0.37696718,  1.60874643,  0.9607604 ],\n",
              "        [-1.06795671,  0.7971929 , -1.30231854, -1.32999381],\n",
              "        [ 0.87164114,  0.56236088,  1.42680487,  1.96296536],\n",
              "        [-1.06795671,  1.03202491, -1.42361291, -1.18682167],\n",
              "        [ 1.46844048,  0.09269685,  0.63839144,  0.53124399],\n",
              "        [ 1.61764032, -0.6117992 ,  0.69903863,  0.38807185],\n",
              "        [ 0.57324147, -0.6117992 ,  0.21386113,  0.24489971],\n",
              "        [ 0.57324147, -1.08146323,  1.18421612,  0.38807185],\n",
              "        [ 1.02084098,  0.32752887,  0.51709707,  0.53124399],\n",
              "        [ 0.57324147, -0.6117992 ,  0.63839144,  0.10172757],\n",
              "        [ 1.17004081, -0.6117992 ,  0.57774425,  0.53124399],\n",
              "        [ 0.57324147, -0.37696718,  0.63839144,  0.38807185],\n",
              "        [-1.21715655,  0.09269685, -1.30231854, -1.47316594],\n",
              "        [ 0.42404164, -0.37696718,  0.51709707,  0.53124399],\n",
              "        [-0.32195754, -1.08146323,  0.45644988,  0.10172757],\n",
              "        [-1.36635638, -0.14213517, -1.36296573, -1.18682167],\n",
              "        [-0.47115737,  1.97135298, -1.42361291, -1.04364953],\n",
              "        [-0.1727577 , -0.6117992 ,  0.75968582,  1.24710467],\n",
              "        [-0.1727577 , -0.14213517,  0.51709707,  0.53124399],\n",
              "        [-1.36635638,  0.7971929 , -1.05972979, -1.32999381],\n",
              "        [-1.96315572, -0.37696718, -1.36296573, -1.32999381],\n",
              "        [ 0.72244131, -0.6117992 ,  0.69903863,  0.9607604 ],\n",
              "        [-1.66475605,  1.26685693, -1.60555448, -1.32999381],\n",
              "        [-0.91875688,  1.73652096, -1.05972979, -1.04364953],\n",
              "        [ 0.72244131, -0.37696718,  0.39580269,  0.24489971],\n",
              "        [-1.06795671, -1.78595928, -0.21066918, -0.1846167 ],\n",
              "        [-1.06795671,  0.7971929 , -1.24167135, -1.04364953],\n",
              "        [ 1.02084098,  0.09269685,  1.12356894,  0.9607604 ],\n",
              "        [-0.47115737, -0.14213517,  0.51709707,  0.53124399],\n",
              "        [-0.76955704,  1.03202491, -1.30231854, -1.32999381],\n",
              "        [ 0.57324147, -0.14213517,  0.75968582,  0.9607604 ],\n",
              "        [ 1.02084098, -0.6117992 ,  1.18421612,  1.53344895],\n",
              "        [-0.76955704, -0.84663122,  0.15321395,  0.38807185],\n",
              "        [-0.02355787,  1.73652096, -1.18102417, -1.18682167],\n",
              "        [ 0.42404164, -0.84663122,  0.88098019,  0.67441612]]))"
            ]
          },
          "metadata": {},
          "execution_count": 108
        }
      ]
    },
    {
      "cell_type": "code",
      "source": [
        "from sklearn.naive_bayes import GaussianNB\n",
        "nb_model = GaussianNB()\n",
        "nb_model.fit(X_train,y_train)"
      ],
      "metadata": {
        "colab": {
          "base_uri": "https://localhost:8080/"
        },
        "id": "rBGHwGXq0jh6",
        "outputId": "514cf5d3-37ef-43ec-fdb6-6c884bca469e"
      },
      "execution_count": null,
      "outputs": [
        {
          "output_type": "execute_result",
          "data": {
            "text/plain": [
              "GaussianNB()"
            ]
          },
          "metadata": {},
          "execution_count": 109
        }
      ]
    },
    {
      "cell_type": "code",
      "source": [
        "y_pred = nb_model.predict(X_test)\n",
        "print(y_pred)"
      ],
      "metadata": {
        "colab": {
          "base_uri": "https://localhost:8080/"
        },
        "id": "AfLG1b1Y15nl",
        "outputId": "c29b4d98-a55f-44c6-e7e4-d4719c7d850f"
      },
      "execution_count": null,
      "outputs": [
        {
          "output_type": "stream",
          "name": "stdout",
          "text": [
            "['Iris-virginica' 'Iris-versicolor' 'Iris-setosa' 'Iris-virginica'\n",
            " 'Iris-setosa' 'Iris-virginica' 'Iris-setosa' 'Iris-virginica'\n",
            " 'Iris-virginica' 'Iris-versicolor' 'Iris-virginica' 'Iris-virginica'\n",
            " 'Iris-versicolor' 'Iris-virginica' 'Iris-versicolor' 'Iris-setosa'\n",
            " 'Iris-versicolor' 'Iris-versicolor' 'Iris-setosa' 'Iris-setosa'\n",
            " 'Iris-virginica' 'Iris-versicolor' 'Iris-setosa' 'Iris-setosa'\n",
            " 'Iris-virginica' 'Iris-setosa' 'Iris-setosa' 'Iris-versicolor'\n",
            " 'Iris-versicolor' 'Iris-setosa' 'Iris-virginica' 'Iris-versicolor'\n",
            " 'Iris-setosa' 'Iris-virginica' 'Iris-virginica' 'Iris-versicolor'\n",
            " 'Iris-setosa' 'Iris-virginica']\n"
          ]
        }
      ]
    },
    {
      "cell_type": "code",
      "source": [
        ""
      ],
      "metadata": {
        "id": "sY7_Mmk6BX_D"
      },
      "execution_count": null,
      "outputs": []
    },
    {
      "cell_type": "code",
      "source": [
        "from sklearn.metrics import accuracy_score\n",
        "score =accuracy_score(y_test,y_pred)\n",
        "print(score)"
      ],
      "metadata": {
        "colab": {
          "base_uri": "https://localhost:8080/"
        },
        "id": "bgTFvYs22QWN",
        "outputId": "997de698-77d5-4891-9d64-5b2ee4f43d4a"
      },
      "execution_count": null,
      "outputs": [
        {
          "output_type": "stream",
          "name": "stdout",
          "text": [
            "0.868421052631579\n"
          ]
        }
      ]
    },
    {
      "cell_type": "code",
      "source": [
        "1-score"
      ],
      "metadata": {
        "colab": {
          "base_uri": "https://localhost:8080/"
        },
        "id": "MnTMpwaZ23K6",
        "outputId": "ab44e6ab-d17a-4c01-ac05-de01ded66d3d"
      },
      "execution_count": null,
      "outputs": [
        {
          "output_type": "execute_result",
          "data": {
            "text/plain": [
              "0.13157894736842102"
            ]
          },
          "metadata": {},
          "execution_count": 112
        }
      ]
    },
    {
      "cell_type": "code",
      "source": [
        "x_new = [[5,3,5,1.5]]\n",
        "x_new = sc.fit_transform(x_new)\n",
        "y_new = nb_model.predict(x_new)\n",
        "y_new[0]"
      ],
      "metadata": {
        "colab": {
          "base_uri": "https://localhost:8080/",
          "height": 35
        },
        "id": "hJp9J0Tc3jSY",
        "outputId": "cf654338-9cd5-40e5-f22e-a829d66c6c92"
      },
      "execution_count": null,
      "outputs": [
        {
          "output_type": "execute_result",
          "data": {
            "text/plain": [
              "'Iris-versicolor'"
            ],
            "application/vnd.google.colaboratory.intrinsic+json": {
              "type": "string"
            }
          },
          "metadata": {},
          "execution_count": 135
        }
      ]
    },
    {
      "cell_type": "code",
      "source": [
        "from sklearn.metrics import classification_report\n",
        "from sklearn.metrics import confusion_matrix\n",
        "from sklearn.metrics import auc,plot_roc_curve"
      ],
      "metadata": {
        "id": "EPn6Sgxd4T83"
      },
      "execution_count": null,
      "outputs": []
    },
    {
      "cell_type": "code",
      "source": [
        "cm = confusion_matrix(y_test,y_pred)\n",
        "cm"
      ],
      "metadata": {
        "colab": {
          "base_uri": "https://localhost:8080/"
        },
        "id": "R3QsXKsG4jhU",
        "outputId": "7070d1a7-7e06-434e-bfbc-76d6d87e482a"
      },
      "execution_count": null,
      "outputs": [
        {
          "output_type": "execute_result",
          "data": {
            "text/plain": [
              "array([[13,  0,  0],\n",
              "       [ 0, 11,  5],\n",
              "       [ 0,  0,  9]])"
            ]
          },
          "metadata": {},
          "execution_count": 137
        }
      ]
    },
    {
      "cell_type": "code",
      "source": [
        "from sklearn.metrics._plot.confusion_matrix import ConfusionMatrixDisplay\n",
        "\n",
        "cm_display = ConfusionMatrixDisplay(cm).plot()"
      ],
      "metadata": {
        "colab": {
          "base_uri": "https://localhost:8080/",
          "height": 279
        },
        "id": "jiPp6b6D4osi",
        "outputId": "c07a79eb-a0f3-431c-da93-1ef5edb80191"
      },
      "execution_count": null,
      "outputs": [
        {
          "output_type": "display_data",
          "data": {
            "text/plain": [
              "<Figure size 432x288 with 2 Axes>"
            ],
            "image/png": "[encoded data removed]"
          },
          "metadata": {
            "needs_background": "light"
          }
        }
      ]
    },
    {
      "cell_type": "code",
      "source": [
        ""
      ],
      "metadata": {
        "id": "arJgEYoqBZMy"
      },
      "execution_count": null,
      "outputs": []
    },
    {
      "cell_type": "code",
      "source": [
        ""
      ],
      "metadata": {
        "colab": {
          "base_uri": "https://localhost:8080/",
          "height": 424
        },
        "id": "ahhsS0FkBpcT",
        "outputId": "71d1591b-7a54-434c-d418-28d59eb369e7"
      },
      "execution_count": null,
      "outputs": [
        {
          "output_type": "execute_result",
          "data": {
            "text/plain": [
              "     Pregnancies  Glucose  BloodPressure  SkinThickness  Insulin   BMI  \\\n",
              "0              6      148             72             35        0  33.6   \n",
              "1              1       85             66             29        0  26.6   \n",
              "2              8      183             64              0        0  23.3   \n",
              "3              1       89             66             23       94  28.1   \n",
              "4              0      137             40             35      168  43.1   \n",
              "..           ...      ...            ...            ...      ...   ...   \n",
              "763           10      101             76             48      180  32.9   \n",
              "764            2      122             70             27        0  36.8   \n",
              "765            5      121             72             23      112  26.2   \n",
              "766            1      126             60              0        0  30.1   \n",
              "767            1       93             70             31        0  30.4   \n",
              "\n",
              "     DiabetesPedigreeFunction  Age  Outcome  \n",
              "0                       0.627   50        1  \n",
              "1                       0.351   31        0  \n",
              "2                       0.672   32        1  \n",
              "3                       0.167   21        0  \n",
              "4                       2.288   33        1  \n",
              "..                        ...  ...      ...  \n",
              "763                     0.171   63        0  \n",
              "764                     0.340   27        0  \n",
              "765                     0.245   30        0  \n",
              "766                     0.349   47        1  \n",
              "767                     0.315   23        0  \n",
              "\n",
              "[768 rows x 9 columns]"
            ],
            "text/html": [
              "\n",
              "  <div id=\"df-98d44f3e-3f16-4f11-91da-ac4939083e39\">\n",
              "    <div class=\"colab-df-container\">\n",
              "      <div>\n",
              "<style scoped>\n",
              "    .dataframe tbody tr th:only-of-type {\n",
              "        vertical-align: middle;\n",
              "    }\n",
              "\n",
              "    .dataframe tbody tr th {\n",
              "        vertical-align: top;\n",
              "    }\n",
              "\n",
              "    .dataframe thead th {\n",
              "        text-align: right;\n",
              "    }\n",
              "</style>\n",
              "<table border=\"1\" class=\"dataframe\">\n",
              "  <thead>\n",
              "    <tr style=\"text-align: right;\">\n",
              "      <th></th>\n",
              "      <th>Pregnancies</th>\n",
              "      <th>Glucose</th>\n",
              "      <th>BloodPressure</th>\n",
              "      <th>SkinThickness</th>\n",
              "      <th>Insulin</th>\n",
              "      <th>BMI</th>\n",
              "      <th>DiabetesPedigreeFunction</th>\n",
              "      <th>Age</th>\n",
              "      <th>Outcome</th>\n",
              "    </tr>\n",
              "  </thead>\n",
              "  <tbody>\n",
              "    <tr>\n",
              "      <th>0</th>\n",
              "      <td>6</td>\n",
              "      <td>148</td>\n",
              "      <td>72</td>\n",
              "      <td>35</td>\n",
              "      <td>0</td>\n",
              "      <td>33.6</td>\n",
              "      <td>0.627</td>\n",
              "      <td>50</td>\n",
              "      <td>1</td>\n",
              "    </tr>\n",
              "    <tr>\n",
              "      <th>1</th>\n",
              "      <td>1</td>\n",
              "      <td>85</td>\n",
              "      <td>66</td>\n",
              "      <td>29</td>\n",
              "      <td>0</td>\n",
              "      <td>26.6</td>\n",
              "      <td>0.351</td>\n",
              "      <td>31</td>\n",
              "      <td>0</td>\n",
              "    </tr>\n",
              "    <tr>\n",
              "      <th>2</th>\n",
              "      <td>8</td>\n",
              "      <td>183</td>\n",
              "      <td>64</td>\n",
              "      <td>0</td>\n",
              "      <td>0</td>\n",
              "      <td>23.3</td>\n",
              "      <td>0.672</td>\n",
              "      <td>32</td>\n",
              "      <td>1</td>\n",
              "    </tr>\n",
              "    <tr>\n",
              "      <th>3</th>\n",
              "      <td>1</td>\n",
              "      <td>89</td>\n",
              "      <td>66</td>\n",
              "      <td>23</td>\n",
              "      <td>94</td>\n",
              "      <td>28.1</td>\n",
              "      <td>0.167</td>\n",
              "      <td>21</td>\n",
              "      <td>0</td>\n",
              "    </tr>\n",
              "    <tr>\n",
              "      <th>4</th>\n",
              "      <td>0</td>\n",
              "      <td>137</td>\n",
              "      <td>40</td>\n",
              "      <td>35</td>\n",
              "      <td>168</td>\n",
              "      <td>43.1</td>\n",
              "      <td>2.288</td>\n",
              "      <td>33</td>\n",
              "      <td>1</td>\n",
              "    </tr>\n",
              "    <tr>\n",
              "      <th>...</th>\n",
              "      <td>...</td>\n",
              "      <td>...</td>\n",
              "      <td>...</td>\n",
              "      <td>...</td>\n",
              "      <td>...</td>\n",
              "      <td>...</td>\n",
              "      <td>...</td>\n",
              "      <td>...</td>\n",
              "      <td>...</td>\n",
              "    </tr>\n",
              "    <tr>\n",
              "      <th>763</th>\n",
              "      <td>10</td>\n",
              "      <td>101</td>\n",
              "      <td>76</td>\n",
              "      <td>48</td>\n",
              "      <td>180</td>\n",
              "      <td>32.9</td>\n",
              "      <td>0.171</td>\n",
              "      <td>63</td>\n",
              "      <td>0</td>\n",
              "    </tr>\n",
              "    <tr>\n",
              "      <th>764</th>\n",
              "      <td>2</td>\n",
              "      <td>122</td>\n",
              "      <td>70</td>\n",
              "      <td>27</td>\n",
              "      <td>0</td>\n",
              "      <td>36.8</td>\n",
              "      <td>0.340</td>\n",
              "      <td>27</td>\n",
              "      <td>0</td>\n",
              "    </tr>\n",
              "    <tr>\n",
              "      <th>765</th>\n",
              "      <td>5</td>\n",
              "      <td>121</td>\n",
              "      <td>72</td>\n",
              "      <td>23</td>\n",
              "      <td>112</td>\n",
              "      <td>26.2</td>\n",
              "      <td>0.245</td>\n",
              "      <td>30</td>\n",
              "      <td>0</td>\n",
              "    </tr>\n",
              "    <tr>\n",
              "      <th>766</th>\n",
              "      <td>1</td>\n",
              "      <td>126</td>\n",
              "      <td>60</td>\n",
              "      <td>0</td>\n",
              "      <td>0</td>\n",
              "      <td>30.1</td>\n",
              "      <td>0.349</td>\n",
              "      <td>47</td>\n",
              "      <td>1</td>\n",
              "    </tr>\n",
              "    <tr>\n",
              "      <th>767</th>\n",
              "      <td>1</td>\n",
              "      <td>93</td>\n",
              "      <td>70</td>\n",
              "      <td>31</td>\n",
              "      <td>0</td>\n",
              "      <td>30.4</td>\n",
              "      <td>0.315</td>\n",
              "      <td>23</td>\n",
              "      <td>0</td>\n",
              "    </tr>\n",
              "  </tbody>\n",
              "</table>\n",
              "<p>768 rows × 9 columns</p>\n",
              "</div>\n",
              "      <button class=\"colab-df-convert\" onclick=\"convertToInteractive('df-98d44f3e-3f16-4f11-91da-ac4939083e39')\"\n",
              "              title=\"Convert this dataframe to an interactive table.\"\n",
              "              style=\"display:none;\">\n",
              "        \n",
              "  <svg xmlns=\"http://www.w3.org/2000/svg\" height=\"24px\"viewBox=\"0 0 24 24\"\n",
              "       width=\"24px\">\n",
              "    <path d=\"M0 0h24v24H0V0z\" fill=\"none\"/>\n",
              "    <path d=\"M18.56 5.44l.94 2.06.94-2.06 2.06-.94-2.06-.94-.94-2.06-.94 2.06-2.06.94zm-11 1L8.5 8.5l.94-2.06 2.06-.94-2.06-.94L8.5 2.5l-.94 2.06-2.06.94zm10 10l.94 2.06.94-2.06 2.06-.94-2.06-.94-.94-2.06-.94 2.06-2.06.94z\"/><path d=\"M17.41 7.96l-1.37-1.37c-.4-.4-.92-.59-1.43-.59-.52 0-1.04.2-1.43.59L10.3 9.45l-7.72 7.72c-.78.78-.78 2.05 0 2.83L4 21.41c.39.39.9.59 1.41.59.51 0 1.02-.2 1.41-.59l7.78-7.78 2.81-2.81c.8-.78.8-2.07 0-2.86zM5.41 20L4 18.59l7.72-7.72 1.47 1.35L5.41 20z\"/>\n",
              "  </svg>\n",
              "      </button>\n",
              "      \n",
              "  <style>\n",
              "    .colab-df-container {\n",
              "      display:flex;\n",
              "      flex-wrap:wrap;\n",
              "      gap: 12px;\n",
              "    }\n",
              "\n",
              "    .colab-df-convert {\n",
              "      background-color: #E8F0FE;\n",
              "      border: none;\n",
              "      border-radius: 50%;\n",
              "      cursor: pointer;\n",
              "      display: none;\n",
              "      fill: #1967D2;\n",
              "      height: 32px;\n",
              "      padding: 0 0 0 0;\n",
              "      width: 32px;\n",
              "    }\n",
              "\n",
              "    .colab-df-convert:hover {\n",
              "      background-color: #E2EBFA;\n",
              "      box-shadow: 0px 1px 2px rgba(60, 64, 67, 0.3), 0px 1px 3px 1px rgba(60, 64, 67, 0.15);\n",
              "      fill: #174EA6;\n",
              "    }\n",
              "\n",
              "    [theme=dark] .colab-df-convert {\n",
              "      background-color: #3B4455;\n",
              "      fill: #D2E3FC;\n",
              "    }\n",
              "\n",
              "    [theme=dark] .colab-df-convert:hover {\n",
              "      background-color: #434B5C;\n",
              "      box-shadow: 0px 1px 3px 1px rgba(0, 0, 0, 0.15);\n",
              "      filter: drop-shadow(0px 1px 2px rgba(0, 0, 0, 0.3));\n",
              "      fill: #FFFFFF;\n",
              "    }\n",
              "  </style>\n",
              "\n",
              "      <script>\n",
              "        const buttonEl =\n",
              "          document.querySelector('#df-98d44f3e-3f16-4f11-91da-ac4939083e39 button.colab-df-convert');\n",
              "        buttonEl.style.display =\n",
              "          google.colab.kernel.accessAllowed ? 'block' : 'none';\n",
              "\n",
              "        async function convertToInteractive(key) {\n",
              "          const element = document.querySelector('#df-98d44f3e-3f16-4f11-91da-ac4939083e39');\n",
              "          const dataTable =\n",
              "            await google.colab.kernel.invokeFunction('convertToInteractive',\n",
              "                                                     [key], {});\n",
              "          if (!dataTable) return;\n",
              "\n",
              "          const docLinkHtml = 'Like what you see? Visit the ' +\n",
              "            '<a target=\"_blank\" href=https://colab.research.google.com/notebooks/data_table.ipynb>data table notebook</a>'\n",
              "            + ' to learn more about interactive tables.';\n",
              "          element.innerHTML = '';\n",
              "          dataTable['output_type'] = 'display_data';\n",
              "          await google.colab.output.renderOutput(dataTable, element);\n",
              "          const docLink = document.createElement('div');\n",
              "          docLink.innerHTML = docLinkHtml;\n",
              "          element.appendChild(docLink);\n",
              "        }\n",
              "      </script>\n",
              "    </div>\n",
              "  </div>\n",
              "  "
            ]
          },
          "metadata": {},
          "execution_count": 140
        }
      ]
    },
    {
      "cell_type": "code",
      "source": [
        ""
      ],
      "metadata": {
        "id": "sndDvyI-B8mp"
      },
      "execution_count": null,
      "outputs": []
    },
    {
      "cell_type": "code",
      "source": [
        ""
      ],
      "metadata": {
        "id": "aXGPJxSaCgr2"
      },
      "execution_count": null,
      "outputs": []
    },
    {
      "cell_type": "code",
      "source": [
        ""
      ],
      "metadata": {
        "id": "lc8DPqlKEnLQ"
      },
      "execution_count": null,
      "outputs": []
    },
    {
      "cell_type": "code",
      "source": [
        ""
      ],
      "metadata": {
        "id": "3m-Zmz96E6S1"
      },
      "execution_count": null,
      "outputs": []
    }
  ]
}